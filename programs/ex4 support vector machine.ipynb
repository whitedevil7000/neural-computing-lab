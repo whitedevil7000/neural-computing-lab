{
 "cells": [
  {
   "cell_type": "markdown",
   "id": "2ea38a93",
   "metadata": {},
   "source": [
    "## Ex4 Support Vector Machine"
   ]
  },
  {
   "cell_type": "code",
   "execution_count": 30,
   "id": "ac6f2a62",
   "metadata": {},
   "outputs": [
    {
     "name": "stdout",
     "output_type": "stream",
     "text": [
      "Digits dataset keys \n",
      "dict_keys(['data', 'target', 'frame', 'feature_names', 'target_names', 'images', 'DESCR'])\n",
      "dataset target name: \n",
      "[0 1 2 3 4 5 6 7 8 9]\n",
      "shape of datset: (1797, 64) \n",
      "and target: (1797,)\n",
      "shape of the images: (1797, 8, 8)\n"
     ]
    },
    {
     "data": {
      "image/png": "[encoded data removed]",
      "text/plain": [
       "<Figure size 432x288 with 4 Axes>"
      ]
     },
     "metadata": {
      "needs_background": "light"
     },
     "output_type": "display_data"
    },
    {
     "name": "stdout",
     "output_type": "stream",
     "text": [
      "Training data and target sizes: \n",
      "(1347, 64), (1347,)\n",
      "Test data and target sizes: \n",
      "(450, 64), (450,)\n",
      "Confusion matrix:\n",
      "[[33  0  0  0  0  0  0  0  0  0]\n",
      " [ 0 55  0  0  0  0  0  0  0  0]\n",
      " [ 0  0 35  0  0  0  0  0  0  0]\n",
      " [ 0  0  0 38  0  0  0  0  0  0]\n",
      " [ 0  0  0  0 49  0  0  0  0  0]\n",
      " [ 0  0  0  0  0 38  0  0  0  1]\n",
      " [ 0  0  0  0  0  0 51  0  0  0]\n",
      " [ 0  0  0  0  0  0  0 56  0  0]\n",
      " [ 0  1  0  0  0  0  0  0 47  1]\n",
      " [ 0  0  0  0  0  1  0  0  0 44]]\n",
      "\n",
      "Classification report for classifier SVC(gamma=0.001):\n",
      "              precision    recall  f1-score   support\n",
      "\n",
      "           0       1.00      1.00      1.00        33\n",
      "           1       0.98      1.00      0.99        55\n",
      "           2       1.00      1.00      1.00        35\n",
      "           3       1.00      1.00      1.00        38\n",
      "           4       1.00      1.00      1.00        49\n",
      "           5       0.97      0.97      0.97        39\n",
      "           6       1.00      1.00      1.00        51\n",
      "           7       1.00      1.00      1.00        56\n",
      "           8       1.00      0.96      0.98        49\n",
      "           9       0.96      0.98      0.97        45\n",
      "\n",
      "    accuracy                           0.99       450\n",
      "   macro avg       0.99      0.99      0.99       450\n",
      "weighted avg       0.99      0.99      0.99       450\n",
      "\n",
      "\n"
     ]
    }
   ],
   "source": [
    "import numpy as np \n",
    "import pandas as pd \n",
    "from subprocess import check_output\n",
    "import matplotlib.pyplot as plt\n",
    "import numpy as np\n",
    "%matplotlib inline\n",
    "from sklearn import datasets, svm, metrics\n",
    "\n",
    "\n",
    "digits = datasets.load_digits()\n",
    "print('Digits dataset keys \\n{}'.format(digits.keys()))\n",
    "print('dataset target name: \\n{}'.format(digits.target_names))\n",
    "print('shape of datset: {} \\nand target: {}'.format(digits.data.shape, digits.target.shape))\n",
    "print('shape of the images: {}'.format(digits.images.shape))\n",
    "\n",
    "\n",
    "\n",
    "for i in range(0,4):\n",
    "    plt.subplot(2, 4,i + 1)\n",
    "    plt.axis('off')\n",
    "    plt.imshow(digits.images[i], cmap=plt.cm.gray_r, interpolation='nearest')\n",
    "    plt.title('Training: {}'.format(digits.target[i]))\n",
    "plt.show()\n",
    "\n",
    "\n",
    "n_samples = len(digits.images)\n",
    "data_images = digits.images.reshape((n_samples, -1))\n",
    "from sklearn.model_selection import train_test_split\n",
    "X_train, X_test, y_train, y_test = train_test_split(data_images,digits.target)\n",
    "print('Training data and target sizes: \\n{}, {}'.format(X_train.shape,y_train.shape))\n",
    "print('Test data and target sizes: \\n{}, {}'.format(X_test.shape,y_test.shape))\n",
    "\n",
    "\n",
    "classifier = svm.SVC(gamma=0.001)\n",
    "classifier.fit(X_train,y_train)\n",
    "svm.SVC(gamma=0.001)\n",
    "y_pred = classifier.predict(X_test)\n",
    "print(\"Confusion matrix:\\n%s\" % metrics.confusion_matrix(y_test, y_pred))\n",
    "print(\"\\nClassification report for classifier %s:\\n%s\\n\"%(classifier, metrics.classification_report(y_test, y_pred)))\n",
    "\n",
    "\n"
   ]
  },
  {
   "cell_type": "code",
   "execution_count": null,
   "id": "62337664",
   "metadata": {},
   "outputs": [],
   "source": []
  }
 ],
 "metadata": {
  "kernelspec": {
   "display_name": "Python 3",
   "language": "python",
   "name": "python3"
  },
  "language_info": {
   "codemirror_mode": {
    "name": "ipython",
    "version": 3
   },
   "file_extension": ".py",
   "mimetype": "text/x-python",
   "name": "python",
   "nbconvert_exporter": "python",
   "pygments_lexer": "ipython3",
   "version": "3.8.8"
  }
 },
 "nbformat": 4,
 "nbformat_minor": 5
}
