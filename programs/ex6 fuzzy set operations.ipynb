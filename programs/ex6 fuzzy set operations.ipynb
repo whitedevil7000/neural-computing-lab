{
 "cells": [
  {
   "cell_type": "markdown",
   "id": "c35ce074",
   "metadata": {},
   "source": [
    "##  Ex6 Fuzzy set operations"
   ]
  },
  {
   "cell_type": "markdown",
   "id": "6d27e1b4",
   "metadata": {},
   "source": [
    "## Implementation using python"
   ]
  },
  {
   "cell_type": "code",
   "execution_count": 7,
   "id": "db3b38cc",
   "metadata": {},
   "outputs": [],
   "source": [
    "import numpy as np"
   ]
  },
  {
   "cell_type": "code",
   "execution_count": 8,
   "id": "b0177f43",
   "metadata": {},
   "outputs": [],
   "source": [
    "def complement(A):\n",
    "    return 1-A\n",
    "\n",
    "def union(A,B):\n",
    "    return np.max([A,B],axis=0)\n",
    "\n",
    "def intersection(A,B):\n",
    "    return np.min([A,B],axis=0)\n",
    "\n",
    "def algebraic_prod(A,B):\n",
    "    return A*B\n",
    "\n",
    "def algebraic_sum(A,B):\n",
    "    return A+B-algebraic_prod(A,B)\n",
    "\n",
    "def algebraic_diff(A,B):\n",
    "    return A+complement(B)\n",
    "\n",
    "def bounded_prod(A,B):\n",
    "    return union(A+B-1,np.zeros_like(A))\n",
    "\n",
    "def bounded_sum(A,B):\n",
    "    return intersection(A+B,np.ones_like(A))\n",
    "\n",
    "def bounded_diff(A,B):\n",
    "    return union(A-B,np.zeros_like(A))\n"
   ]
  },
  {
   "cell_type": "code",
   "execution_count": 9,
   "id": "42827548",
   "metadata": {},
   "outputs": [
    {
     "name": "stdout",
     "output_type": "stream",
     "text": [
      "The algebraic sum [1.  0.6]\n",
      "The algebraic difference [1.6 1.3]\n",
      "The algebraic product [0.4 0.1]\n",
      "The bounded sum [1.  0.7]\n",
      "The bounded difference [0.6 0.3]\n",
      "The bounded product [0.4 0. ]\n"
     ]
    }
   ],
   "source": [
    "def complement(A):\n",
    "    return 1-A\n",
    "\n",
    "def union(A,B):\n",
    "    return np.max([A,B],axis=0)\n",
    "\n",
    "def intersection(A,B):\n",
    "    return np.min([A,B],axis=0)\n",
    "\n",
    "def algebraic_prod(A,B):\n",
    "    return A*B\n",
    "\n",
    "def algebraic_sum(A,B):\n",
    "    return A+B-algebraic_prod(A,B)\n",
    "\n",
    "def algebraic_diff(A,B):\n",
    "    return A+complement(B)\n",
    "\n",
    "def bounded_prod(A,B):\n",
    "    return union(A+B-1,np.zeros_like(A))\n",
    "\n",
    "def bounded_sum(A,B):\n",
    "    return intersection(A+B,np.ones_like(A))\n",
    "\n",
    "def bounded_diff(A,B):\n",
    "    return union(A-B,np.zeros_like(A))\n",
    "A=np.array([1, .5])\n",
    "B=np.array([.4, .2])\n",
    "\n",
    "print('The algebraic sum',algebraic_sum(A,B))\n",
    "print('The algebraic difference',algebraic_diff(A,B))\n",
    "print('The algebraic product',algebraic_prod(A,B))\n",
    "print('The bounded sum',bounded_sum(A,B))\n",
    "print('The bounded difference',bounded_diff(A,B))\n",
    "print('The bounded product',bounded_prod(A,B))"
   ]
  },
  {
   "cell_type": "markdown",
   "id": "7a6c3d08",
   "metadata": {},
   "source": [
    "## implement in matlab"
   ]
  },
  {
   "cell_type": "markdown",
   "id": "0a862748",
   "metadata": {},
   "source": [
    "a= input(‘Enter the fuzzy set a’ )\n",
    "b= input(‘Enter the fuzzy set b’)\n",
    "c= a + b\n",
    "d= a * b\n",
    "as= c – d \n",
    " e= 1 – b \n",
    "ad= a + e \n",
    "         f= a – b \n",
    "bs= min (1, c)\n",
    "bd= max (0, f)\n",
    "         g= c – 1 \n",
    "bp= max (0,g)\n",
    "disp(‘The algebraic sum’)\n",
    "disp(as)\n",
    "disp(‘The algebraic difference’)\n",
    "disp(ad)\n",
    "disp(‘The algebraic product’)\n",
    "disp(d)\n",
    "disp(‘The bounded sum’)\n",
    "disp(bs)\n",
    "disp(‘The bounded difference’)\n",
    "disp (bd)\n",
    "disp(‘The bounded product’)\n",
    "disp(bp)\n"
   ]
  }
 ],
 "metadata": {
  "kernelspec": {
   "display_name": "Python 3",
   "language": "python",
   "name": "python3"
  },
  "language_info": {
   "codemirror_mode": {
    "name": "ipython",
    "version": 3
   },
   "file_extension": ".py",
   "mimetype": "text/x-python",
   "name": "python",
   "nbconvert_exporter": "python",
   "pygments_lexer": "ipython3",
   "version": "3.8.8"
  }
 },
 "nbformat": 4,
 "nbformat_minor": 5
}
