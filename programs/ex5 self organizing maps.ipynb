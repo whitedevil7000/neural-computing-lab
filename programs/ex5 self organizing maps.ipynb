{
 "cells": [
  {
   "cell_type": "markdown",
   "id": "bd3ee498",
   "metadata": {},
   "source": [
    "## Ex5 Self Organizing maps"
   ]
  },
  {
   "cell_type": "code",
   "execution_count": 1,
   "id": "33a6738f",
   "metadata": {},
   "outputs": [
    {
     "name": "stdout",
     "output_type": "stream",
     "text": [
      "Test Sample s belongs to Cluster :  1\n",
      "Trained weights :  [[0.6000000000000001, 0.8, 0.5, 0.9], [0.3333984375, 0.0666015625, 0.7, 0.3]]\n"
     ]
    }
   ],
   "source": [
    "import math\n",
    "class SOM :\n",
    "    def winner( self, weights, sample ) :\n",
    "        D0 = 0\n",
    "        D1 = 0\n",
    "        for i in range( len( sample ) ) :\n",
    "            D0 = D0 + math.pow( ( sample[i] - weights[0][i] ), 2 )\n",
    "            D1 = D1 + math.pow( ( sample[i] - weights[1][i] ), 2 )\n",
    "            if D0 > D1 :\n",
    "                return 0\n",
    "            else :\n",
    "                return 1\n",
    "    def update( self, weights, sample, J, alpha ) :\n",
    "        for i in range( len ( weights ) ) :\n",
    "            weights[J][i] = weights[J][i] + alpha * ( sample[i] - weights[J][i] )\n",
    "        return weights\n",
    "\n",
    "# Driver code\n",
    "def main() :\n",
    "    T = [ [ 1, 1, 0, 0 ], [ 0, 0, 0, 1 ], [ 1, 0, 0, 0 ], [ 0, 0, 1, 1 ] ]\n",
    "    m, n = len( T ), len( T[0] )\n",
    "    # weight initialization ( n, C )\n",
    "    weights = [ [ 0.2, 0.6, 0.5, 0.9 ], [ 0.8, 0.4, 0.7, 0.3 ] ]\n",
    "    # training\n",
    "    ob = SOM()\n",
    "    epochs = 3\n",
    "    alpha = 0.5\n",
    "    for i in range( epochs ) :\n",
    "        for j in range( m ) :\n",
    "            sample = T[j]\n",
    "            J = ob.winner( weights, sample )\n",
    "            weights = ob.update( weights, sample, J, alpha )\n",
    "    s = [ 1, 1, 0, 1 ]\n",
    "    J = ob.winner( weights, s )\n",
    "    print( \"Test Sample s belongs to Cluster : \", J )\n",
    "    print( \"Trained weights : \", weights )\n",
    "if __name__ == \"__main__\":\n",
    "    main()\n"
   ]
  },
  {
   "cell_type": "code",
   "execution_count": null,
   "id": "e68f9bf8",
   "metadata": {},
   "outputs": [],
   "source": []
  }
 ],
 "metadata": {
  "kernelspec": {
   "display_name": "Python 3",
   "language": "python",
   "name": "python3"
  },
  "language_info": {
   "codemirror_mode": {
    "name": "ipython",
    "version": 3
   },
   "file_extension": ".py",
   "mimetype": "text/x-python",
   "name": "python",
   "nbconvert_exporter": "python",
   "pygments_lexer": "ipython3",
   "version": "3.8.8"
  }
 },
 "nbformat": 4,
 "nbformat_minor": 5
}
